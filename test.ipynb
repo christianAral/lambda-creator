{
 "cells": [
  {
   "cell_type": "code",
   "execution_count": null,
   "id": "40fac047",
   "metadata": {},
   "outputs": [],
   "source": [
    "import tomllib, json, boto3"
   ]
  },
  {
   "cell_type": "code",
   "execution_count": null,
   "id": "c4cb941d",
   "metadata": {},
   "outputs": [],
   "source": [
    "import sys\n",
    "sys.path.append('src')\n",
    "import src.lambda_handler"
   ]
  },
  {
   "cell_type": "code",
   "execution_count": null,
   "id": "cdfa8f6b",
   "metadata": {},
   "outputs": [],
   "source": [
    "# Test the lambda_handler function\n",
    "with open('manifest.toml','rb') as f:\n",
    "    manifest = tomllib.load(f)\n",
    "\n",
    "event = {\n",
    "    \"body\": json.dumps(manifest)\n",
    "}\n",
    "context = {}"
   ]
  },
  {
   "cell_type": "code",
   "execution_count": null,
   "id": "c7239104",
   "metadata": {},
   "outputs": [],
   "source": [
    "_, response = src.lambda_handler.lambda_handler(event, context)"
   ]
  },
  {
   "cell_type": "markdown",
   "id": "0539e718",
   "metadata": {},
   "source": [
    "# Getting a list of existing resources"
   ]
  },
  {
   "cell_type": "code",
   "execution_count": null,
   "id": "c9c7396f",
   "metadata": {},
   "outputs": [],
   "source": [
    "lambda_client = boto3.client('lambda')\n",
    "paginator = lambda_client.get_paginator('list_functions')\n",
    "existing_functions = [fn['FunctionArn'] for page in paginator.paginate() for fn in page['Functions']]"
   ]
  },
  {
   "cell_type": "code",
   "execution_count": null,
   "id": "2364ba31",
   "metadata": {},
   "outputs": [],
   "source": [
    "iam_client = boto3.client('iam')\n",
    "paginator = iam_client.get_paginator('list_roles')\n",
    "existing_roles = [role['Arn'] for page in paginator.paginate() for role in page['Roles']]"
   ]
  },
  {
   "cell_type": "code",
   "execution_count": null,
   "id": "76b664b7",
   "metadata": {},
   "outputs": [],
   "source": [
    "ecr_client = boto3.client('ecr')\n",
    "paginator = ecr_client.get_paginator('describe_repositories')\n",
    "existing_ecr_repos = [repo['repositoryArn'] for page in paginator.paginate() for repo in page['repositories']]"
   ]
  },
  {
   "cell_type": "code",
   "execution_count": null,
   "id": "42eab8fc",
   "metadata": {},
   "outputs": [],
   "source": [
    "[repo for page in paginator.paginate() for repo in page['repositories']]"
   ]
  }
 ],
 "metadata": {
  "kernelspec": {
   "display_name": ".venv",
   "language": "python",
   "name": "python3"
  },
  "language_info": {
   "codemirror_mode": {
    "name": "ipython",
    "version": 3
   },
   "file_extension": ".py",
   "mimetype": "text/x-python",
   "name": "python",
   "nbconvert_exporter": "python",
   "pygments_lexer": "ipython3",
   "version": "3.13.0"
  }
 },
 "nbformat": 4,
 "nbformat_minor": 5
}
